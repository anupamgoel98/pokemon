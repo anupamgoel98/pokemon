{
 "cells": [
  {
   "cell_type": "code",
   "execution_count": null,
   "metadata": {
    "colab": {},
    "colab_type": "code",
    "id": "YRYNnkhdkivv"
   },
   "outputs": [],
   "source": [
    "import numpy as np\n",
    "import matplotlib.pyplot as plt\n",
    "from keras.models import Sequential\n",
    "from keras.layers import *\n",
    "from keras.preprocessing.image import ImageDataGenerator\n",
    "from keras.utils import to_categorical\n",
    "from keras.callbacks import ModelCheckpoint,EarlyStopping"
   ]
  },
  {
   "cell_type": "code",
   "execution_count": null,
   "metadata": {
    "colab": {
     "base_uri": "https://localhost:8080/",
     "height": 34
    },
    "colab_type": "code",
    "id": "uDutJkpKlGBa",
    "outputId": "eeabcedb-7b79-45dc-d680-ae4b50101d63"
   },
   "outputs": [],
   "source": [
    "!git clone https://github.com/yatin9988/Convolutional-Neural-Network.git"
   ]
  },
  {
   "cell_type": "code",
   "execution_count": null,
   "metadata": {
    "colab": {},
    "colab_type": "code",
    "id": "Rgu_puY4lT56"
   },
   "outputs": [],
   "source": [
    "train_generator = ImageDataGenerator(rescale=1/255)\n",
    "validation_generator = ImageDataGenerator(rescale=1/255)"
   ]
  },
  {
   "cell_type": "code",
   "execution_count": null,
   "metadata": {
    "colab": {
     "base_uri": "https://localhost:8080/",
     "height": 51
    },
    "colab_type": "code",
    "id": "gDLaVBaBprin",
    "outputId": "53c46d1e-cfa4-43ea-c066-d1353cc2cd69"
   },
   "outputs": [],
   "source": [
    "training_data = train_generator.flow_from_directory('Convolutional-Neural-Network/Pokemon_images/Train/',target_size=(100,100),class_mode='categorical',batch_size=32)\n",
    "validation_data = validation_generator.flow_from_directory('Convolutional-Neural-Network/Pokemon_images/Valid/',target_size=(100,100),class_mode='categorical',batch_size=32)"
   ]
  },
  {
   "cell_type": "code",
   "execution_count": null,
   "metadata": {
    "colab": {
     "base_uri": "https://localhost:8080/",
     "height": 34
    },
    "colab_type": "code",
    "id": "Bmt0gxBj7AOV",
    "outputId": "39951289-bf60-4f28-cb57-2e7fbeaa482e"
   },
   "outputs": [],
   "source": [
    "training_data.class_indices"
   ]
  },
  {
   "cell_type": "code",
   "execution_count": null,
   "metadata": {
    "colab": {
     "base_uri": "https://localhost:8080/",
     "height": 34
    },
    "colab_type": "code",
    "id": "jI2HG-5B7EqD",
    "outputId": "187baec3-cbd2-44cb-a78b-bb510764da36"
   },
   "outputs": [],
   "source": [
    "validation_data.class_indices"
   ]
  },
  {
   "cell_type": "code",
   "execution_count": null,
   "metadata": {
    "colab": {
     "base_uri": "https://localhost:8080/",
     "height": 136
    },
    "colab_type": "code",
    "id": "9M6DRTir8vDH",
    "outputId": "2cb069de-e574-42d3-aa40-10cf71753afb"
   },
   "outputs": [],
   "source": [
    "for count,(x,y) in enumerate(training_data):\n",
    "  print(x.shape,y.shape)\n",
    "  if count == 4:\n",
    "    break "
   ]
  },
  {
   "cell_type": "code",
   "execution_count": null,
   "metadata": {
    "colab": {
     "base_uri": "https://localhost:8080/",
     "height": 1000
    },
    "colab_type": "code",
    "id": "YAl8TsTU9afW",
    "outputId": "97d9f731-acab-4cb7-e4d5-8011bfa0d291"
   },
   "outputs": [],
   "source": [
    "for count,(x,y) in enumerate(training_data):\n",
    "  for i in range(x.shape[0]):\n",
    "    plt.subplot(6,6,i+1)\n",
    "    plt.imshow(x[i])\n",
    "    plt.axis(\"off\")\n",
    "  plt.show()\n",
    "  if count == 4:\n",
    "    break  "
   ]
  },
  {
   "cell_type": "code",
   "execution_count": null,
   "metadata": {
    "colab": {
     "base_uri": "https://localhost:8080/",
     "height": 1000
    },
    "colab_type": "code",
    "id": "WbjzgvmI-L47",
    "outputId": "d2ba2eff-539d-4f64-fc4a-9642035e643c"
   },
   "outputs": [],
   "source": [
    "for count,(x,y) in enumerate(validation_data):\n",
    "  for i in range(x.shape[0]):\n",
    "    plt.subplot(6,6,i+1)\n",
    "    plt.imshow(x[i])\n",
    "    plt.axis(\"off\")\n",
    "  plt.show()\n",
    "\n",
    "  if count == 4:\n",
    "    break  "
   ]
  },
  {
   "cell_type": "code",
   "execution_count": null,
   "metadata": {
    "colab": {},
    "colab_type": "code",
    "id": "pkkerXeI_Ejf"
   },
   "outputs": [],
   "source": [
    "## model architecture"
   ]
  },
  {
   "cell_type": "code",
   "execution_count": null,
   "metadata": {
    "colab": {
     "base_uri": "https://localhost:8080/",
     "height": 527
    },
    "colab_type": "code",
    "id": "Ag98bCxHFtvV",
    "outputId": "122be7ba-712b-4a30-e684-44c7afcbee17"
   },
   "outputs": [],
   "source": [
    "model = Sequential()\n",
    "model.add(Conv2D(32,(3,3),activation='relu',input_shape=(100,100,3)))\n",
    "model.add(MaxPool2D((2,2)))\n",
    "\n",
    "model.add(Conv2D(64,(3,3),activation='relu'))\n",
    "model.add(MaxPool2D((2,2)))\n",
    "\n",
    "model.add(Conv2D(64,(3,3),activation='relu'))\n",
    "model.add(MaxPool2D((2,2)))\n",
    "\n",
    "model.add(Conv2D(128,(3,3),activation='relu'))\n",
    "model.add(MaxPool2D((2,2)))\n",
    "\n",
    "model.add(GlobalAveragePooling2D())\n",
    "\n",
    "model.add(Dense(64,activation='relu'))\n",
    "model.add(Dense(5,activation='softmax'))\n",
    "\n",
    "model.summary()"
   ]
  },
  {
   "cell_type": "code",
   "execution_count": null,
   "metadata": {
    "colab": {},
    "colab_type": "code",
    "id": "CIYyjq6JJULz"
   },
   "outputs": [],
   "source": [
    "model_check_point = ModelCheckpoint('model.h5',monitor='val_accuracy',verbose=1,save_best_only=True)\n",
    "early_check_point = EarlyStopping(monitor='val_accuracy',min_delta=0.5,patience=10,verbose=1,restore_best_weights=True)"
   ]
  },
  {
   "cell_type": "code",
   "execution_count": null,
   "metadata": {
    "colab": {},
    "colab_type": "code",
    "id": "-gs3Sm9SLwma"
   },
   "outputs": [],
   "source": [
    "call_backs = [model_check_point,early_check_point]"
   ]
  },
  {
   "cell_type": "code",
   "execution_count": null,
   "metadata": {
    "colab": {},
    "colab_type": "code",
    "id": "uMOHMeRfI8P3"
   },
   "outputs": [],
   "source": [
    "model.compile(optimizer='adam',loss='categorical_crossentropy',metrics=['accuracy'])"
   ]
  },
  {
   "cell_type": "code",
   "execution_count": null,
   "metadata": {
    "colab": {
     "base_uri": "https://localhost:8080/",
     "height": 411
    },
    "colab_type": "code",
    "id": "jYeen9xaKfDi",
    "outputId": "7b4c45a6-5390-4299-d020-f00dc59652c5"
   },
   "outputs": [],
   "source": [
    "hist = model.fit_generator(training_data,steps_per_epoch=27,epochs=10,validation_data=validation_data,validation_steps=2)"
   ]
  },
  {
   "cell_type": "code",
   "execution_count": null,
   "metadata": {
    "colab": {},
    "colab_type": "code",
    "id": "sMnZdwdTMTb5"
   },
   "outputs": [],
   "source": []
  },
  {
   "cell_type": "code",
   "execution_count": null,
   "metadata": {},
   "outputs": [],
   "source": []
  }
 ],
 "metadata": {
  "accelerator": "GPU",
  "colab": {
   "name": "Pokemon-Classifier.ipynb",
   "provenance": []
  },
  "kernelspec": {
   "display_name": "Python 3",
   "language": "python",
   "name": "python3"
  },
  "language_info": {
   "codemirror_mode": {
    "name": "ipython",
    "version": 3
   },
   "file_extension": ".py",
   "mimetype": "text/x-python",
   "name": "python",
   "nbconvert_exporter": "python",
   "pygments_lexer": "ipython3",
   "version": "3.8.3"
  }
 },
 "nbformat": 4,
 "nbformat_minor": 1
}
